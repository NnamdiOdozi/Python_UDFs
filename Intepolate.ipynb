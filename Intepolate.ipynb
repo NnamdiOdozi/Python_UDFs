{
 "cells": [
  {
   "cell_type": "code",
   "execution_count": null,
   "id": "a49b9f96",
   "metadata": {},
   "outputs": [],
   "source": [
    "import xlwings as xw\n",
    "\n",
    "\n",
    "def main():\n",
    "    wb = xw.Book.caller()\n",
    "    sheet = wb.sheets[0]\n",
    "    if sheet[\"A1\"].value == \"Hello xlwings!\":\n",
    "        sheet[\"A1\"].value = \"Bye xlwings!\"\n",
    "    else:\n",
    "        sheet[\"A1\"].value = \"Hello xlwings!\"\n",
    "\n",
    "def linear():\n",
    "    wb = xw.Book.caller()\n",
    "    sheet = wb.sheets[0]\n",
    "    if sheet[\"A1\"].value == \"Hello Interpolation!\":\n",
    "        sheet[\"A1\"].value = \"Bye Interpolation !\"\n",
    "    else:\n",
    "        sheet[\"A1\"].value = \"Hello Interpolation!\"\n",
    "\n",
    "@xw.func\n",
    "def hello(name):\n",
    "    return f\"Hello {name}!\"\n",
    "\n",
    "\n",
    "if __name__ == \"__main__\":\n",
    "    xw.Book(\"myproject.xlsm\").set_mock_caller()\n",
    "    main()"
   ]
  }
 ],
 "metadata": {
  "kernelspec": {
   "display_name": "Python 3 (ipykernel)",
   "language": "python",
   "name": "python3"
  },
  "language_info": {
   "codemirror_mode": {
    "name": "ipython",
    "version": 3
   },
   "file_extension": ".py",
   "mimetype": "text/x-python",
   "name": "python",
   "nbconvert_exporter": "python",
   "pygments_lexer": "ipython3",
   "version": "3.9.17"
  }
 },
 "nbformat": 4,
 "nbformat_minor": 5
}
